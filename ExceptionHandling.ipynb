{
  "nbformat": 4,
  "nbformat_minor": 0,
  "metadata": {
    "colab": {
      "provenance": [],
      "authorship_tag": "ABX9TyM+XHjdwfSNpjz5yquLT4uU",
      "include_colab_link": true
    },
    "kernelspec": {
      "name": "python3",
      "display_name": "Python 3"
    },
    "language_info": {
      "name": "python"
    }
  },
  "cells": [
    {
      "cell_type": "markdown",
      "metadata": {
        "id": "view-in-github",
        "colab_type": "text"
      },
      "source": [
        "<a href=\"https://colab.research.google.com/github/DonivanDrzyzga/BTE320/blob/main/ExceptionHandling.ipynb\" target=\"_parent\"><img src=\"https://colab.research.google.com/assets/colab-badge.svg\" alt=\"Open In Colab\"/></a>"
      ]
    },
    {
      "cell_type": "code",
      "execution_count": null,
      "metadata": {
        "colab": {
          "base_uri": "https://localhost:8080/"
        },
        "id": "s_4trPJrtJvw",
        "outputId": "17beec11-6e81-4f23-f424-d5e107015885"
      },
      "outputs": [
        {
          "name": "stdout",
          "output_type": "stream",
          "text": [
            "Unknown error, please try again.\n",
            "Unknown error, please try again.\n",
            "Unknown error, please try again.\n",
            "Unknown error, please try again.\n",
            "enter a: 12\n",
            "enter a: 15\n",
            "enter a: 15\n",
            "enter a: 16\n",
            "enter a: 17\n"
          ]
        }
      ],
      "source": [
        "while True:\n",
        "\n",
        "  try:\n",
        "    a = float(input(\"enter a: \"))\n",
        "\n",
        "    b = float(input('enter b: '))\n",
        "\n",
        "    print(a/b)\n",
        "    d =input('D is complete, would you like to try again?(y/n)')\n",
        "    if d == \"n\":\n",
        "\n",
        "      break\n",
        "    if d ==\"y\":\n",
        "      continue\n",
        "\n",
        "\n",
        "\n",
        "  except ZeroDivisionError:\n",
        "    print(\"Denominator is zero!\")\n",
        "  except ValueError:\n",
        "    print(\"Incompatible input type; cannot be cast to numeric.\")\n",
        "  except:\n",
        "    print('Unknown error, please try again.')\n",
        "\n",
        "\n",
        "print('Thank you for playing.')"
      ]
    },
    {
      "cell_type": "code",
      "source": [
        "def avg(x):\n",
        "\n",
        "\n",
        "\n",
        "\n",
        "  try:\n",
        "\n",
        "\n",
        "      return sum(list1)/len(list1)\n",
        "  except TypeError:\n",
        "    print('List has a value that is not able to be added, try again.')\n",
        "  except ZeroDivisionError:\n",
        "    print(\"The list is empty.\")\n",
        "    return float('NaN')\n",
        "\n",
        "\n",
        "\n",
        "list1 = ['avx',2,3,4]\n",
        "\n",
        "avg(list1)\n",
        "\n",
        "\n"
      ],
      "metadata": {
        "colab": {
          "base_uri": "https://localhost:8080/"
        },
        "id": "pjR9tfnuxlCX",
        "outputId": "acae3692-47e4-4a6f-b5cd-0d0bbbb6cbbc"
      },
      "execution_count": 19,
      "outputs": [
        {
          "output_type": "stream",
          "name": "stdout",
          "text": [
            "List has a value that is not able to be added, try again.\n"
          ]
        }
      ]
    }
  ]
}