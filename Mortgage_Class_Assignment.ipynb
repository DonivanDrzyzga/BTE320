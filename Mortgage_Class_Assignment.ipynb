{
  "nbformat": 4,
  "nbformat_minor": 0,
  "metadata": {
    "colab": {
      "provenance": [],
      "authorship_tag": "ABX9TyMLKhT4syjh+nbxyORX/eu+",
      "include_colab_link": true
    },
    "kernelspec": {
      "name": "python3",
      "display_name": "Python 3"
    },
    "language_info": {
      "name": "python"
    }
  },
  "cells": [
    {
      "cell_type": "markdown",
      "metadata": {
        "id": "view-in-github",
        "colab_type": "text"
      },
      "source": [
        "<a href=\"https://colab.research.google.com/github/DonivanDrzyzga/BTE320/blob/main/Mortgage_Class_Assignment.ipynb\" target=\"_parent\"><img src=\"https://colab.research.google.com/assets/colab-badge.svg\" alt=\"Open In Colab\"/></a>"
      ]
    },
    {
      "cell_type": "code",
      "execution_count": null,
      "metadata": {
        "colab": {
          "base_uri": "https://localhost:8080/"
        },
        "id": "Vfb_hnE6JDhS",
        "outputId": "da224037-e698-4a49-93f2-80ea6dc6859d"
      },
      "outputs": [
        {
          "output_type": "execute_result",
          "data": {
            "text/plain": [
              "6000.000004656286"
            ]
          },
          "metadata": {},
          "execution_count": 50
        }
      ],
      "source": [
        "class Mortgage:\n",
        "  def __init__(self,loan_amount, years,intrest_rate):\n",
        "    self.loan_amount = loan_amount\n",
        "    self.years= years\n",
        "    self.intrest_rate = intrest_rate\n",
        "    #Can also make attributes private by using double underscores\n",
        "\n",
        "  def monthly_pmt(self):\n",
        "    n = self.years*12\n",
        "    B = self.loan_amount\n",
        "    r = self.intrest_rate/100\n",
        "\n",
        "\n",
        "\n",
        "    payment = B*(r * (1+r)**n)/((1+r)**n-1)\n",
        "    return payment\n",
        "  def get_intrest(self): # getter method, return value or values\n",
        "    return self.intrest_rate\n",
        "\n",
        "  def set_intrest(self, newIntrest): # setter method sets new value to appropriate attribute\n",
        "    if newIntrest >0:\n",
        "      self.intrest_rate = newIntrest\n",
        "    else:\n",
        "      print('Please enter a positive intrest rate.')\n",
        "\n",
        "\n",
        "person1 = Mortgage(100000,30,6)\n",
        "person1.monthly_pmt()\n",
        "\n",
        "\n",
        "\n"
      ]
    },
    {
      "cell_type": "code",
      "source": [
        "person1.get_intrest()\n",
        "\n"
      ],
      "metadata": {
        "colab": {
          "base_uri": "https://localhost:8080/"
        },
        "id": "rP7ixSGQQNtB",
        "outputId": "e727f15b-6152-4f28-ec23-160bfffc6424"
      },
      "execution_count": null,
      "outputs": [
        {
          "output_type": "execute_result",
          "data": {
            "text/plain": [
              "6"
            ]
          },
          "metadata": {},
          "execution_count": 51
        }
      ]
    },
    {
      "cell_type": "code",
      "source": [
        "person1.set_intrest(5)\n",
        "person1.get_intrest()\n"
      ],
      "metadata": {
        "colab": {
          "base_uri": "https://localhost:8080/"
        },
        "id": "a_1lCBjhQblD",
        "outputId": "93f667cc-f069-4b22-eb98-d3a720758cc5"
      },
      "execution_count": null,
      "outputs": [
        {
          "output_type": "execute_result",
          "data": {
            "text/plain": [
              "5"
            ]
          },
          "metadata": {},
          "execution_count": 54
        }
      ]
    },
    {
      "cell_type": "code",
      "source": [
        "person1.set_intrest(-4)"
      ],
      "metadata": {
        "colab": {
          "base_uri": "https://localhost:8080/"
        },
        "id": "RkYPx3vDRZgu",
        "outputId": "02ca81e1-51d7-451d-cc88-b7056f9f254a"
      },
      "execution_count": null,
      "outputs": [
        {
          "output_type": "stream",
          "name": "stdout",
          "text": [
            "Please enter a positive intrest rate.\n"
          ]
        }
      ]
    },
    {
      "cell_type": "code",
      "source": [
        "# PART 2\n",
        "\n",
        "class Mortgage:\n",
        "  def __init__(self, amount, maturity, interest):\n",
        "    self.amount = amount\n",
        "    self.maturity = maturity\n",
        "    self._interest = interest\n",
        "\n",
        "  def __str__(self,):\n",
        "    return f'Mortgage info:\\n Initial Loan amount: ${self.amount} \\n Maturity term: {self.maturity} years\\n Interest rate: {self._interest} % '\n",
        "\n",
        "  def get_interest(self):\n",
        "    return self._interest\n",
        "\n",
        "  def set_interest(self, newInterest):\n",
        "    if newInterest >= 0:\n",
        "      self._interest = newInterest\n",
        "    else:\n",
        "      print('Interest values must be non-negative!')\n",
        "\n",
        "  def payment(self):\n",
        "    return (self.amount) * ((self._interest/100)*((1+(self._interest/100))**(self.maturity*12))) / (((1+(self._interest/100))**(self.maturity*12))-1)\n",
        "\n",
        "m = Mortgage(100000,30,6)\n",
        "\n",
        "print(m)\n",
        "\n",
        "m.payment()"
      ],
      "metadata": {
        "colab": {
          "base_uri": "https://localhost:8080/"
        },
        "id": "2yfzkw5A9mex",
        "outputId": "06dc0f19-7a21-4f0e-82f4-e82ccb115fee"
      },
      "execution_count": 1,
      "outputs": [
        {
          "output_type": "stream",
          "name": "stdout",
          "text": [
            "Mortgage info:\n",
            " Initial Loan amount: $100000 \n",
            " Maturity term: 30 years\n",
            " Interest rate: 6 % \n"
          ]
        },
        {
          "output_type": "execute_result",
          "data": {
            "text/plain": [
              "6000.000004656286"
            ]
          },
          "metadata": {},
          "execution_count": 1
        }
      ]
    }
  ]
}