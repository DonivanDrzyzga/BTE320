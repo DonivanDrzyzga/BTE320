{
  "nbformat": 4,
  "nbformat_minor": 0,
  "metadata": {
    "colab": {
      "provenance": [],
      "authorship_tag": "ABX9TyNx0g/aOJI5kMbK6Qfco3AK",
      "include_colab_link": true
    },
    "kernelspec": {
      "name": "python3",
      "display_name": "Python 3"
    },
    "language_info": {
      "name": "python"
    }
  },
  "cells": [
    {
      "cell_type": "markdown",
      "metadata": {
        "id": "view-in-github",
        "colab_type": "text"
      },
      "source": [
        "<a href=\"https://colab.research.google.com/github/DonivanDrzyzga/BTE320/blob/main/OOP_Inheritance.ipynb\" target=\"_parent\"><img src=\"https://colab.research.google.com/assets/colab-badge.svg\" alt=\"Open In Colab\"/></a>"
      ]
    },
    {
      "cell_type": "code",
      "execution_count": 10,
      "metadata": {
        "colab": {
          "base_uri": "https://localhost:8080/"
        },
        "id": "5HLjmyOyF0Ga",
        "outputId": "3772810b-bdf6-402d-997b-03841cc5553c"
      },
      "outputs": [
        {
          "output_type": "execute_result",
          "data": {
            "text/plain": [
              "5.0"
            ]
          },
          "metadata": {},
          "execution_count": 10
        }
      ],
      "source": [
        "\n",
        "\n",
        "class Point:\n",
        "  def __init__(self,x,y):\n",
        "    self.x = x\n",
        "    self.y = y\n",
        "\n",
        "  def distance(self,other):\n",
        "    x1 = self.x\n",
        "    y1 = self.y\n",
        "\n",
        "    x2 = other.x\n",
        "    y2 = other.y\n",
        "\n",
        "    xdiff = (x1 - x2)**2\n",
        "    ydiff = (y1 - y2)**2\n",
        "\n",
        "    return (xdiff + ydiff)**.5\n",
        "\n",
        "class Point3D(Point):\n",
        "  def __init__(self,x,y,z):\n",
        "    super().__init__(x,y)\n",
        "    self.z = z\n",
        "\n",
        "\n",
        "\n",
        "\n",
        "\n",
        "P1 = Point(3,4)\n",
        "P2 = Point(6,8)\n",
        "Point.distance(P1,P2)\n",
        "\n",
        "\n"
      ]
    }
  ]
}